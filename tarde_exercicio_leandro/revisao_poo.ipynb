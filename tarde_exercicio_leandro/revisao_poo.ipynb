{
 "cells": [
  {
   "cell_type": "markdown",
   "metadata": {},
   "source": [
    "# Revisão POO"
   ]
  },
  {
   "cell_type": "markdown",
   "metadata": {},
   "source": [
    "## Criar uma classe que ajude no controle financeiro.\n",
    "Os atributos são:\n",
    "- descrição\n",
    "- valor\n",
    "- categoria"
   ]
  },
  {
   "cell_type": "code",
   "execution_count": 23,
   "metadata": {},
   "outputs": [],
   "source": [
    "class ControleFinanceiro:\n",
    "    # Esse é o construtor (função especial)\n",
    "    def __init__(self, descricao, valor, categoria):\n",
    "       self.descricao = descricao\n",
    "       self.valor = valor\n",
    "       self.categoria = categoria\n",
    "    # métodos de trabalho (workers)\n",
    "    def verificar_valor(self):\n",
    "        if self.valor > 3000:\n",
    "            return \"alerta cartão!\"\n",
    "        else:\n",
    "            return \"Faça sua compra!\"    "
   ]
  },
  {
   "cell_type": "code",
   "execution_count": 25,
   "metadata": {},
   "outputs": [
    {
     "name": "stdout",
     "output_type": "stream",
     "text": [
      "resultado: Faça sua compra! - categoria: lazer\n"
     ]
    }
   ],
   "source": [
    "cf = ControleFinanceiro(\"cinemark familia\",125.1,\"lazer\")\n",
    "print(f\"resultado: {cf.verificar_valor()} - categoria: {cf.categoria}\")"
   ]
  },
  {
   "cell_type": "markdown",
   "metadata": {},
   "source": [
    "# Desafio\n",
    "-  Criar um classe com o nome matemática\n",
    "-  Criar um construtor com dois atributos com os nomes x, y\n",
    "- Criar um método para somar x e y\n",
    "- Criar um método para dividir x e y\n",
    "- Criar um método para calcular a média aritmética de x e y\n",
    "- Criar um método  para calcular a média ponderada com peso 1 e 2"
   ]
  },
  {
   "cell_type": "code",
   "execution_count": 7,
   "metadata": {},
   "outputs": [],
   "source": [
    "class Matematica:\n",
    "    # Construtor\n",
    "    def __init__(self, x, y):\n",
    "        self.x = x\n",
    "        self.y = y\n",
    "    def soma(self):\n",
    "        resultado_soma = self.x + self.y\n",
    "        return resultado_soma\n",
    "\n",
    "    def divisao(self):\n",
    "        resultado_divisao =  self.x / self.y\n",
    "        return resultado_divisao\n",
    "    \n",
    "    def media(self):\n",
    "        resultado_media = (self.x + self.y) / 2\n",
    "        return resultado_media\n",
    "    def ponderada(self):\n",
    "        resultado_media_ponderada = ((self.x *1 + self.y *2)/3)\n",
    "        return resultado_media_ponderada"
   ]
  },
  {
   "cell_type": "code",
   "execution_count": 8,
   "metadata": {},
   "outputs": [
    {
     "name": "stdout",
     "output_type": "stream",
     "text": [
      "resultado da soma: 30 - resultado da divisão: 5.0 - resultado da média: 15.0 - resultado da média ponderada: 11.666666666666666 \n"
     ]
    }
   ],
   "source": [
    "mat = Matematica(25, 5)\n",
    "print(f\"resultado da soma: {mat.soma()} - resultado da divisão: {mat.divisao()} - resultado da média: {mat.media()} - resultado da média ponderada: {mat.ponderada()} \")\n"
   ]
  },
  {
   "cell_type": "code",
   "execution_count": 13,
   "metadata": {},
   "outputs": [
    {
     "data": {
      "text/plain": [
       "30"
      ]
     },
     "execution_count": 13,
     "metadata": {},
     "output_type": "execute_result"
    }
   ],
   "source": [
    "mat.soma()\n"
   ]
  },
  {
   "cell_type": "code",
   "execution_count": 15,
   "metadata": {},
   "outputs": [
    {
     "data": {
      "text/plain": [
       "5.0"
      ]
     },
     "execution_count": 15,
     "metadata": {},
     "output_type": "execute_result"
    }
   ],
   "source": [
    "mat.divisao()"
   ]
  },
  {
   "cell_type": "code",
   "execution_count": 16,
   "metadata": {},
   "outputs": [
    {
     "data": {
      "text/plain": [
       "15.0"
      ]
     },
     "execution_count": 16,
     "metadata": {},
     "output_type": "execute_result"
    }
   ],
   "source": [
    "mat.media()"
   ]
  },
  {
   "cell_type": "code",
   "execution_count": 17,
   "metadata": {},
   "outputs": [
    {
     "data": {
      "text/plain": [
       "11.666666666666666"
      ]
     },
     "execution_count": 17,
     "metadata": {},
     "output_type": "execute_result"
    }
   ],
   "source": [
    "mat.ponderada()"
   ]
  }
 ],
 "metadata": {
  "kernelspec": {
   "display_name": ".venv",
   "language": "python",
   "name": "python3"
  },
  "language_info": {
   "codemirror_mode": {
    "name": "ipython",
    "version": 3
   },
   "file_extension": ".py",
   "mimetype": "text/x-python",
   "name": "python",
   "nbconvert_exporter": "python",
   "pygments_lexer": "ipython3",
   "version": "3.12.4"
  }
 },
 "nbformat": 4,
 "nbformat_minor": 2
}
