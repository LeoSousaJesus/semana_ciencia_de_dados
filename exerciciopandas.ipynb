{
 "cells": [
  {
   "cell_type": "markdown",
   "metadata": {},
   "source": [
    "# Competências Pandas \n",
    "\n",
    "- Entender as funções básicas\n",
    "- Utilizar as funções básicas\n",
    "- Renomear colunas\n",
    "- Selecionar colunas e linhas\n",
    "-  Adicionar e remover colunas\n",
    "- Realizar consultas\n",
    "- Ordenar itens\n",
    "- Combinar e concatenar DataFrames\n",
    "- Salvar DataFrames "
   ]
  },
  {
   "cell_type": "markdown",
   "metadata": {},
   "source": [
    "### Entender as funçoes básicas\n",
    "\n",
    "- head() - Retorna n as primeiras linhas de um DataFrame\n",
    "- tail() - Retorna n as últimas linhas de um Dataframe\n",
    "- shape: Retorna o número de linhas e colunas\n",
    "- info(): número de colunas, contagem de células, tipo e memória usada.\n",
    "- columns: Mostra todas as colunas\n",
    "- count(): conta as células preenchidas\n",
    "- describe(): Retorna medidas estatísticas sobre as colunas (média, percentis, desvio padrão, percentis 50%, mediana)"
   ]
  },
  {
   "cell_type": "code",
   "execution_count": 1,
   "metadata": {},
   "outputs": [
    {
     "name": "stdout",
     "output_type": "stream",
     "text": [
      "Requirement already satisfied: pandas in c:\\users\\ead\\desktop\\aulas python leandro\\semanadatascience\\.venv\\lib\\site-packages (2.2.2)\n",
      "Requirement already satisfied: numpy>=1.26.0 in c:\\users\\ead\\desktop\\aulas python leandro\\semanadatascience\\.venv\\lib\\site-packages (from pandas) (2.0.0)\n",
      "Requirement already satisfied: python-dateutil>=2.8.2 in c:\\users\\ead\\desktop\\aulas python leandro\\semanadatascience\\.venv\\lib\\site-packages (from pandas) (2.9.0.post0)\n",
      "Requirement already satisfied: pytz>=2020.1 in c:\\users\\ead\\desktop\\aulas python leandro\\semanadatascience\\.venv\\lib\\site-packages (from pandas) (2024.1)\n",
      "Requirement already satisfied: tzdata>=2022.7 in c:\\users\\ead\\desktop\\aulas python leandro\\semanadatascience\\.venv\\lib\\site-packages (from pandas) (2024.1)\n",
      "Requirement already satisfied: six>=1.5 in c:\\users\\ead\\desktop\\aulas python leandro\\semanadatascience\\.venv\\lib\\site-packages (from python-dateutil>=2.8.2->pandas) (1.16.0)\n",
      "Note: you may need to restart the kernel to use updated packages.\n"
     ]
    }
   ],
   "source": [
    "pip install pandas"
   ]
  },
  {
   "cell_type": "code",
   "execution_count": 2,
   "metadata": {},
   "outputs": [],
   "source": [
    "import pandas as pd"
   ]
  },
  {
   "cell_type": "code",
   "execution_count": 10,
   "metadata": {},
   "outputs": [],
   "source": [
    "url = \"dataset/controledegastos.csv\"\n",
    "df = pd.read_csv(url)"
   ]
  },
  {
   "cell_type": "code",
   "execution_count": 11,
   "metadata": {},
   "outputs": [
    {
     "data": {
      "text/html": [
       "<div>\n",
       "<style scoped>\n",
       "    .dataframe tbody tr th:only-of-type {\n",
       "        vertical-align: middle;\n",
       "    }\n",
       "\n",
       "    .dataframe tbody tr th {\n",
       "        vertical-align: top;\n",
       "    }\n",
       "\n",
       "    .dataframe thead th {\n",
       "        text-align: right;\n",
       "    }\n",
       "</style>\n",
       "<table border=\"1\" class=\"dataframe\">\n",
       "  <thead>\n",
       "    <tr style=\"text-align: right;\">\n",
       "      <th></th>\n",
       "      <th>data</th>\n",
       "      <th>hora</th>\n",
       "      <th>gasto</th>\n",
       "      <th>descrição</th>\n",
       "      <th>tipo</th>\n",
       "    </tr>\n",
       "  </thead>\n",
       "  <tbody>\n",
       "    <tr>\n",
       "      <th>0</th>\n",
       "      <td>25/07/2024</td>\n",
       "      <td>17:20</td>\n",
       "      <td>R$ 15</td>\n",
       "      <td>energético</td>\n",
       "      <td>alimentação</td>\n",
       "    </tr>\n",
       "    <tr>\n",
       "      <th>1</th>\n",
       "      <td>24/07/2024</td>\n",
       "      <td>16:00</td>\n",
       "      <td>R$ 10</td>\n",
       "      <td>cachorro quente</td>\n",
       "      <td>alimentação</td>\n",
       "    </tr>\n",
       "    <tr>\n",
       "      <th>2</th>\n",
       "      <td>24/07/2024</td>\n",
       "      <td>07:20</td>\n",
       "      <td>R$ 11</td>\n",
       "      <td>lanche escolar</td>\n",
       "      <td>alimentação</td>\n",
       "    </tr>\n",
       "    <tr>\n",
       "      <th>3</th>\n",
       "      <td>24/07/2024</td>\n",
       "      <td>19:00</td>\n",
       "      <td>R$ 150</td>\n",
       "      <td>mouse gamer</td>\n",
       "      <td>informática</td>\n",
       "    </tr>\n",
       "    <tr>\n",
       "      <th>4</th>\n",
       "      <td>25/07/2024</td>\n",
       "      <td>22:00</td>\n",
       "      <td>R$ 250</td>\n",
       "      <td>cinemark</td>\n",
       "      <td>lazer</td>\n",
       "    </tr>\n",
       "  </tbody>\n",
       "</table>\n",
       "</div>"
      ],
      "text/plain": [
       "         data   hora   gasto        descrição         tipo\n",
       "0  25/07/2024  17:20   R$ 15       energético  alimentação\n",
       "1  24/07/2024  16:00   R$ 10  cachorro quente  alimentação\n",
       "2  24/07/2024  07:20   R$ 11   lanche escolar  alimentação\n",
       "3  24/07/2024  19:00  R$ 150      mouse gamer  informática\n",
       "4  25/07/2024  22:00  R$ 250         cinemark        lazer"
      ]
     },
     "execution_count": 11,
     "metadata": {},
     "output_type": "execute_result"
    }
   ],
   "source": [
    "pd.read_csv(url,sep=\";\")"
   ]
  }
 ],
 "metadata": {
  "kernelspec": {
   "display_name": ".venv",
   "language": "python",
   "name": "python3"
  },
  "language_info": {
   "codemirror_mode": {
    "name": "ipython",
    "version": 3
   },
   "file_extension": ".py",
   "mimetype": "text/x-python",
   "name": "python",
   "nbconvert_exporter": "python",
   "pygments_lexer": "ipython3",
   "version": "3.12.4"
  }
 },
 "nbformat": 4,
 "nbformat_minor": 2
}
