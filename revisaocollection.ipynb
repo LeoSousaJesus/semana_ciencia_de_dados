{
 "cells": [
  {
   "cell_type": "markdown",
   "metadata": {},
   "source": [
    "- Lista []\n",
    "- Tupla ()\n",
    "- Conjuntos {}\n",
    "- Dicionários {\n",
    "    chave: valor\n",
    "}\n",
    "\n",
    "\n",
    "# Exemplo de Lista \n",
    "### lista_times = ['Flamengo','Vasco','Palmeiras']\n",
    "# Exemplo de Tupla  \n",
    "### tupla_times = ('Flamengo','Vasco','Palmeiras')"
   ]
  },
  {
   "cell_type": "code",
   "execution_count": 1,
   "metadata": {},
   "outputs": [
    {
     "data": {
      "text/plain": [
       "list"
      ]
     },
     "execution_count": 1,
     "metadata": {},
     "output_type": "execute_result"
    }
   ],
   "source": [
    "lista_times = ['Flamengo','Vasco','Palmeiras', 'Fluminense']\n",
    "type(lista_times)"
   ]
  },
  {
   "cell_type": "code",
   "execution_count": 3,
   "metadata": {},
   "outputs": [
    {
     "data": {
      "text/plain": [
       "tuple"
      ]
     },
     "execution_count": 3,
     "metadata": {},
     "output_type": "execute_result"
    }
   ],
   "source": [
    "tupla_times = ('Flamengo','Vasco','Palmeiras', 'Fluminense')\n",
    "type(tupla_times)"
   ]
  },
  {
   "cell_type": "code",
   "execution_count": 7,
   "metadata": {},
   "outputs": [
    {
     "data": {
      "text/plain": [
       "{'Flamengo', 'Fluminense', 'Palmeiras', 'São Paulo', 'Vasco'}"
      ]
     },
     "execution_count": 7,
     "metadata": {},
     "output_type": "execute_result"
    }
   ],
   "source": [
    "conjunto_times = {'Flamengo', 'Vasco', 'Palmeiras', 'Fluminense', 'Vasco', 'São Paulo'}\n",
    "type(conjunto_times)\n",
    "conjunto_times"
   ]
  },
  {
   "cell_type": "code",
   "execution_count": 8,
   "metadata": {},
   "outputs": [
    {
     "data": {
      "text/plain": [
       "set"
      ]
     },
     "execution_count": 8,
     "metadata": {},
     "output_type": "execute_result"
    }
   ],
   "source": [
    "type(conjunto_times)"
   ]
  },
  {
   "cell_type": "code",
   "execution_count": 10,
   "metadata": {},
   "outputs": [
    {
     "name": "stdout",
     "output_type": "stream",
     "text": [
      "3\n",
      "taguatinga: 3\n",
      "brazlândia: 5\n",
      "ceilândia: 2\n",
      "candangolândia: 4\n"
     ]
    }
   ],
   "source": [
    "'''\n",
    " Um dicionário é uma coleção de pares chave-valor, onde cada chave é única. Você pode usar um dicionário para associar informações específicas a cada tipo de imóvel\n",
    "'''\n",
    "\n",
    "# Criandp um dicionário com informações sobre apartamentos\n",
    "apartamentos = {\n",
    "    \"taguatinga\": 3,\n",
    "    \"brazlândia\": 5,\n",
    "    \"ceilândia\": 2\n",
    "}\n",
    "# Acessando valores no dicionário\n",
    "print(apartamentos[\"taguatinga\"]) # Saída: 3\n",
    "\n",
    "# adicionando um novo apartamento\n",
    "apartamentos[\"candangolândia\"] = 4\n",
    "\n",
    "# Iterando sobre as chaves e valores\n",
    "for apartamentos, quantidade in apartamentos.items():\n",
    "    print(f\"{apartamentos}: {quantidade}\")"
   ]
  }
 ],
 "metadata": {
  "kernelspec": {
   "display_name": "Python 3",
   "language": "python",
   "name": "python3"
  },
  "language_info": {
   "codemirror_mode": {
    "name": "ipython",
    "version": 3
   },
   "file_extension": ".py",
   "mimetype": "text/x-python",
   "name": "python",
   "nbconvert_exporter": "python",
   "pygments_lexer": "ipython3",
   "version": "3.12.5"
  }
 },
 "nbformat": 4,
 "nbformat_minor": 2
}
